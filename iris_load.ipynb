{
 "cells": [
  {
   "cell_type": "markdown",
   "metadata": {},
   "source": [
    "Загружаем данные используя библиотеку sklearn. В модуле datasets есть функция load_iris. Импортируем ее и загружаем данные."
   ]
  },
  {
   "cell_type": "code",
   "execution_count": 3,
   "metadata": {},
   "outputs": [],
   "source": [
    "from sklearn.datasets import load_iris\n",
    "data = load_iris().data"
   ]
  },
  {
   "cell_type": "markdown",
   "metadata": {},
   "source": [
    "В data должен лежать numpy array, посмотрим его размер. Метод shape возвращает размерность данных. В нашем случае должна быть таблица 150 строк и 4 столбцов. Количество строк идет первым, количество столбцов -- вторым. Сама размерность -- это кортеж (tuple)."
   ]
  },
  {
   "cell_type": "code",
   "execution_count": 4,
   "metadata": {
    "scrolled": true
   },
   "outputs": [
    {
     "name": "stdout",
     "output_type": "stream",
     "text": [
      "(150, 4)\n"
     ]
    }
   ],
   "source": [
    "print(data.shape)"
   ]
  },
  {
   "cell_type": "markdown",
   "metadata": {},
   "source": [
    "Отдельно надо загрузить метки (labels) данных. В нашем случае, метки это просто названия сортов ириса. Т.к. значение каждой метки только одно, то размерность будет 150 строк и один столбец."
   ]
  },
  {
   "cell_type": "code",
   "execution_count": 7,
   "metadata": {},
   "outputs": [
    {
     "name": "stdout",
     "output_type": "stream",
     "text": [
      "(150,)\n"
     ]
    }
   ],
   "source": [
    "labels = load_iris().target\n",
    "print(labels.shape)"
   ]
  },
  {
   "cell_type": "markdown",
   "metadata": {},
   "source": [
    "Теперь сделаем из двух таблиц одну, т.е. сольем данные и их метку в одну таблицу из пяти столбцов. Для этого будем \n",
    "использоваться библиотку numpy, импортируем ее и затем сольем таблицы. Чтобы слить таблицы в одну, необходимо, чтобы они имели одну размерность. В нашем случае, размерность для меток (150,) надо превратить в (150, 1), т.е. задать явно количество стоблцов."
   ]
  },
  {
   "cell_type": "code",
   "execution_count": 8,
   "metadata": {},
   "outputs": [
    {
     "name": "stdout",
     "output_type": "stream",
     "text": [
      "(150, 5)\n"
     ]
    }
   ],
   "source": [
    "import numpy as np\n",
    "\n",
    "labels = np.reshape(labels,(150,1))\n",
    "data = np.concatenate([data,labels],axis=-1)\n",
    "print(data.shape)"
   ]
  },
  {
   "cell_type": "markdown",
   "metadata": {},
   "source": [
    "Надо научиться работать с numpy, для этого с данными реши следующие задачи:\n",
    "1. Распечатай значения строки номер 77. Подсказка: используй numpy slices (https://docs.scipy.org/doc/numpy-1.13.0/reference/arrays.indexing.html).\n",
    "2. Распечатай значения столбца с индексом 2. Подсказка: используй numpy slices (https://docs.scipy.org/doc/numpy-1.13.0/reference/arrays.indexing.html).\n",
    "3. Распечатай значения стоблцов с индексами 1,2 и 3 в строках с 22 по 45. Подсказка: используй numpy slices (https://docs.scipy.org/doc/numpy-1.13.0/reference/arrays.indexing.html).\n",
    "4. Распечатай все строки, в которых значение sepal-width поля (индекс 1, индексирование начинается с нуля, как в списках python) больше, чем 4. Подсказка: для получения индексов строк используем np.where (https://docs.scipy.org/doc/numpy-1.13.0/reference/generated/numpy.where.html).\n",
    "5. Перемножь все значение строк с 12 по 17 на 42.\n",
    "6. Возведи в квадрат все значения строк 23, 55, 68 и 112. Подсказка: используй функции np.isin и np.square.\n",
    "7. Подсчитай скалярное произведение строк 67 и 143. Подскзака: используй np.dot.\n",
    "\n",
    "Все задания необходимо выполнить в этом ноутбуке ниже, нельзя исопльзовать питоновские циклы, задачи реализуются одним или двумя вызовами функций библиотеки numpy."
   ]
  },
  {
   "cell_type": "markdown",
   "metadata": {},
   "source": [
    "Далее учимся работать с pandas. Это более расширенная версия numpy. Можно задавать имена столбцов и строк и использовать расширеннные функции для манипуляции данными."
   ]
  },
  {
   "cell_type": "code",
   "execution_count": 9,
   "metadata": {},
   "outputs": [
    {
     "data": {
      "text/html": [
       "<div>\n",
       "<style scoped>\n",
       "    .dataframe tbody tr th:only-of-type {\n",
       "        vertical-align: middle;\n",
       "    }\n",
       "\n",
       "    .dataframe tbody tr th {\n",
       "        vertical-align: top;\n",
       "    }\n",
       "\n",
       "    .dataframe thead th {\n",
       "        text-align: right;\n",
       "    }\n",
       "</style>\n",
       "<table border=\"1\" class=\"dataframe\">\n",
       "  <thead>\n",
       "    <tr style=\"text-align: right;\">\n",
       "      <th></th>\n",
       "      <th>sepal-length</th>\n",
       "      <th>sepal-width</th>\n",
       "      <th>petal-length</th>\n",
       "      <th>petal-width</th>\n",
       "      <th>species</th>\n",
       "    </tr>\n",
       "  </thead>\n",
       "  <tbody>\n",
       "    <tr>\n",
       "      <th>0</th>\n",
       "      <td>5.1</td>\n",
       "      <td>3.5</td>\n",
       "      <td>1.4</td>\n",
       "      <td>0.2</td>\n",
       "      <td>0.0</td>\n",
       "    </tr>\n",
       "    <tr>\n",
       "      <th>1</th>\n",
       "      <td>4.9</td>\n",
       "      <td>3.0</td>\n",
       "      <td>1.4</td>\n",
       "      <td>0.2</td>\n",
       "      <td>0.0</td>\n",
       "    </tr>\n",
       "    <tr>\n",
       "      <th>2</th>\n",
       "      <td>4.7</td>\n",
       "      <td>3.2</td>\n",
       "      <td>1.3</td>\n",
       "      <td>0.2</td>\n",
       "      <td>0.0</td>\n",
       "    </tr>\n",
       "    <tr>\n",
       "      <th>3</th>\n",
       "      <td>4.6</td>\n",
       "      <td>3.1</td>\n",
       "      <td>1.5</td>\n",
       "      <td>0.2</td>\n",
       "      <td>0.0</td>\n",
       "    </tr>\n",
       "    <tr>\n",
       "      <th>4</th>\n",
       "      <td>5.0</td>\n",
       "      <td>3.6</td>\n",
       "      <td>1.4</td>\n",
       "      <td>0.2</td>\n",
       "      <td>0.0</td>\n",
       "    </tr>\n",
       "  </tbody>\n",
       "</table>\n",
       "</div>"
      ],
      "text/plain": [
       "   sepal-length  sepal-width  petal-length  petal-width  species\n",
       "0           5.1          3.5           1.4          0.2      0.0\n",
       "1           4.9          3.0           1.4          0.2      0.0\n",
       "2           4.7          3.2           1.3          0.2      0.0\n",
       "3           4.6          3.1           1.5          0.2      0.0\n",
       "4           5.0          3.6           1.4          0.2      0.0"
      ]
     },
     "execution_count": 9,
     "metadata": {},
     "output_type": "execute_result"
    }
   ],
   "source": [
    "import pandas as pd\n",
    "pd.set_option('display.max_row', 1000)\n",
    "\n",
    "names = ['sepal-length', 'sepal-width', 'petal-length', 'petal-width', 'species']\n",
    "dataset = pd.DataFrame(data,columns=names)\n",
    "dataset.head(5)"
   ]
  },
  {
   "cell_type": "markdown",
   "metadata": {},
   "source": [
    "Основная структура библиотеки pandas это DataFrame. Фрейм содержит данные как numpy array и имена столюцов и строк, если таковые заданы. Выше мы задали имена столбцов в python списке и передали их в конструктор фрейма: columns=names. Метод head используется для печати первых N строк, вместе с именами столбцов. Получает в качестве параметра количество строк для печати, значение по умолчанию -- 10."
   ]
  },
  {
   "cell_type": "markdown",
   "metadata": {},
   "source": [
    "Для получения доступа к столбцам по символьным индексам используем метод loc (используется по умолчанию), для доступа по числовым индексам -- метод iloc. "
   ]
  },
  {
   "cell_type": "code",
   "execution_count": 10,
   "metadata": {},
   "outputs": [
    {
     "data": {
      "text/plain": [
       "1    1.4\n",
       "2    1.3\n",
       "3    1.5\n",
       "4    1.4\n",
       "Name: petal-length, dtype: float64"
      ]
     },
     "execution_count": 10,
     "metadata": {},
     "output_type": "execute_result"
    }
   ],
   "source": [
    "dataset.loc[1:4, 'petal-length']"
   ]
  },
  {
   "cell_type": "code",
   "execution_count": 11,
   "metadata": {},
   "outputs": [
    {
     "data": {
      "text/plain": [
       "1    1.4\n",
       "2    1.3\n",
       "3    1.5\n",
       "Name: petal-length, dtype: float64"
      ]
     },
     "execution_count": 11,
     "metadata": {},
     "output_type": "execute_result"
    }
   ],
   "source": [
    "dataset.iloc[1:4, 2]"
   ]
  },
  {
   "cell_type": "markdown",
   "metadata": {},
   "source": [
    "Задача, проделать все, чтобы было сделано с numpy данными, используя в качестве индексов столбцов симольные имена."
   ]
  },
  {
   "cell_type": "markdown",
   "metadata": {},
   "source": [
    "Посмотрим типы данных таблицы и другую информацию"
   ]
  },
  {
   "cell_type": "code",
   "execution_count": 12,
   "metadata": {},
   "outputs": [
    {
     "data": {
      "text/plain": [
       "sepal-length    float64\n",
       "sepal-width     float64\n",
       "petal-length    float64\n",
       "petal-width     float64\n",
       "species         float64\n",
       "dtype: object"
      ]
     },
     "execution_count": 12,
     "metadata": {},
     "output_type": "execute_result"
    }
   ],
   "source": [
    "dataset.dtypes"
   ]
  },
  {
   "cell_type": "code",
   "execution_count": 11,
   "metadata": {},
   "outputs": [
    {
     "data": {
      "text/plain": [
       "(150, 5)"
      ]
     },
     "execution_count": 11,
     "metadata": {},
     "output_type": "execute_result"
    }
   ],
   "source": [
    "dataset.shape"
   ]
  },
  {
   "cell_type": "markdown",
   "metadata": {},
   "source": [
    "Какие имеются значения меток?"
   ]
  },
  {
   "cell_type": "code",
   "execution_count": 13,
   "metadata": {},
   "outputs": [
    {
     "data": {
      "text/plain": [
       "0      0.0\n",
       "1      0.0\n",
       "2      0.0\n",
       "3      0.0\n",
       "4      0.0\n",
       "5      0.0\n",
       "6      0.0\n",
       "7      0.0\n",
       "8      0.0\n",
       "9      0.0\n",
       "10     0.0\n",
       "11     0.0\n",
       "12     0.0\n",
       "13     0.0\n",
       "14     0.0\n",
       "15     0.0\n",
       "16     0.0\n",
       "17     0.0\n",
       "18     0.0\n",
       "19     0.0\n",
       "20     0.0\n",
       "21     0.0\n",
       "22     0.0\n",
       "23     0.0\n",
       "24     0.0\n",
       "25     0.0\n",
       "26     0.0\n",
       "27     0.0\n",
       "28     0.0\n",
       "29     0.0\n",
       "30     0.0\n",
       "31     0.0\n",
       "32     0.0\n",
       "33     0.0\n",
       "34     0.0\n",
       "35     0.0\n",
       "36     0.0\n",
       "37     0.0\n",
       "38     0.0\n",
       "39     0.0\n",
       "40     0.0\n",
       "41     0.0\n",
       "42     0.0\n",
       "43     0.0\n",
       "44     0.0\n",
       "45     0.0\n",
       "46     0.0\n",
       "47     0.0\n",
       "48     0.0\n",
       "49     0.0\n",
       "50     1.0\n",
       "51     1.0\n",
       "52     1.0\n",
       "53     1.0\n",
       "54     1.0\n",
       "55     1.0\n",
       "56     1.0\n",
       "57     1.0\n",
       "58     1.0\n",
       "59     1.0\n",
       "60     1.0\n",
       "61     1.0\n",
       "62     1.0\n",
       "63     1.0\n",
       "64     1.0\n",
       "65     1.0\n",
       "66     1.0\n",
       "67     1.0\n",
       "68     1.0\n",
       "69     1.0\n",
       "70     1.0\n",
       "71     1.0\n",
       "72     1.0\n",
       "73     1.0\n",
       "74     1.0\n",
       "75     1.0\n",
       "76     1.0\n",
       "77     1.0\n",
       "78     1.0\n",
       "79     1.0\n",
       "80     1.0\n",
       "81     1.0\n",
       "82     1.0\n",
       "83     1.0\n",
       "84     1.0\n",
       "85     1.0\n",
       "86     1.0\n",
       "87     1.0\n",
       "88     1.0\n",
       "89     1.0\n",
       "90     1.0\n",
       "91     1.0\n",
       "92     1.0\n",
       "93     1.0\n",
       "94     1.0\n",
       "95     1.0\n",
       "96     1.0\n",
       "97     1.0\n",
       "98     1.0\n",
       "99     1.0\n",
       "100    2.0\n",
       "101    2.0\n",
       "102    2.0\n",
       "103    2.0\n",
       "104    2.0\n",
       "105    2.0\n",
       "106    2.0\n",
       "107    2.0\n",
       "108    2.0\n",
       "109    2.0\n",
       "110    2.0\n",
       "111    2.0\n",
       "112    2.0\n",
       "113    2.0\n",
       "114    2.0\n",
       "115    2.0\n",
       "116    2.0\n",
       "117    2.0\n",
       "118    2.0\n",
       "119    2.0\n",
       "120    2.0\n",
       "121    2.0\n",
       "122    2.0\n",
       "123    2.0\n",
       "124    2.0\n",
       "125    2.0\n",
       "126    2.0\n",
       "127    2.0\n",
       "128    2.0\n",
       "129    2.0\n",
       "130    2.0\n",
       "131    2.0\n",
       "132    2.0\n",
       "133    2.0\n",
       "134    2.0\n",
       "135    2.0\n",
       "136    2.0\n",
       "137    2.0\n",
       "138    2.0\n",
       "139    2.0\n",
       "140    2.0\n",
       "141    2.0\n",
       "142    2.0\n",
       "143    2.0\n",
       "144    2.0\n",
       "145    2.0\n",
       "146    2.0\n",
       "147    2.0\n",
       "148    2.0\n",
       "149    2.0\n",
       "Name: species, dtype: float64"
      ]
     },
     "execution_count": 13,
     "metadata": {},
     "output_type": "execute_result"
    }
   ],
   "source": [
    "dataset.loc[:,'species']"
   ]
  },
  {
   "cell_type": "markdown",
   "metadata": {},
   "source": [
    "Уникальные значения меток. Видим только три значения, соответствующие сортам ириса"
   ]
  },
  {
   "cell_type": "code",
   "execution_count": 14,
   "metadata": {},
   "outputs": [
    {
     "data": {
      "text/plain": [
       "array([0., 1., 2.])"
      ]
     },
     "execution_count": 14,
     "metadata": {},
     "output_type": "execute_result"
    }
   ],
   "source": [
    "dataset.loc[:,'species'].unique()"
   ]
  },
  {
   "cell_type": "markdown",
   "metadata": {},
   "source": [
    "Посмотрим на распределение данных в каждом из четырех столбцов. Показано распределение по первому столбцу, поменяй название столбца, чтобы посмотреть распределение на других колонках"
   ]
  },
  {
   "cell_type": "code",
   "execution_count": 15,
   "metadata": {},
   "outputs": [
    {
     "data": {
      "text/plain": [
       "Text(8, 0, '7.9')"
      ]
     },
     "execution_count": 15,
     "metadata": {},
     "output_type": "execute_result"
    },
    {
     "data": {
      "image/png": "[encoded data removed]",
      "text/plain": [
       "<Figure size 432x288 with 1 Axes>"
      ]
     },
     "metadata": {},
     "output_type": "display_data"
    }
   ],
   "source": [
    "import matplotlib.pyplot as plt\n",
    "%matplotlib inline\n",
    "\n",
    "# Создаем граф для показа данных\n",
    "dataset['sepal-length'].plot()\n",
    "    \n",
    "# Вычисляем максимальное значение\n",
    "max_value = dataset['sepal-length'].max()\n",
    "    \n",
    "# Рисуем граф\n",
    "plt.annotate(str(max_value), xy=(1, max_value), xytext=(8, 0), \n",
    "                 xycoords=('axes fraction', 'data'), textcoords='offset points')"
   ]
  }
 ],
 "metadata": {
  "kernelspec": {
   "display_name": "Python 3",
   "language": "python",
   "name": "python3"
  },
  "language_info": {
   "codemirror_mode": {
    "name": "ipython",
    "version": 3
   },
   "file_extension": ".py",
   "mimetype": "text/x-python",
   "name": "python",
   "nbconvert_exporter": "python",
   "pygments_lexer": "ipython3",
   "version": "3.6.7"
  }
 },
 "nbformat": 4,
 "nbformat_minor": 2
}
