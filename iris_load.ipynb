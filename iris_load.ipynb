{
 "cells": [
  {
   "cell_type": "markdown",
   "metadata": {},
   "source": [
    "Загружаем данные используя библиотеку sklearn. В модуле datasets есть функция load_iris. Импортируем ее и загружаем данные."
   ]
  },
  {
   "cell_type": "code",
   "execution_count": 3,
   "metadata": {},
   "outputs": [],
   "source": [
    "from sklearn.datasets import load_iris\n",
    "data = load_iris().data"
   ]
  },
  {
   "cell_type": "markdown",
   "metadata": {},
   "source": [
    "В data должен лежать numpy array, посмотрим его размер. Метод shape возвращает размерность данных. В нашем случае должна быть таблица 150 строк и 4 столбцов. Количество строк идет первым, количество столбцов -- вторым. Сама размерность -- это кортеж (tuple)."
   ]
  },
  {
   "cell_type": "code",
   "execution_count": 4,
   "metadata": {},
   "outputs": [
    {
     "name": "stdout",
     "output_type": "stream",
     "text": [
      "(150, 4)\n"
     ]
    }
   ],
   "source": [
    "print(data.shape)"
   ]
  },
  {
   "cell_type": "markdown",
   "metadata": {},
   "source": [
    "Отдельно надо загрузить метки (labels) данных. В нашем случае, метки это просто названия сортов ириса. Т.к. значение каждой метки только одно, то размерность будет 150 строк и один столбец."
   ]
  },
  {
   "cell_type": "code",
   "execution_count": 5,
   "metadata": {},
   "outputs": [
    {
     "name": "stdout",
     "output_type": "stream",
     "text": [
      "(150,)\n"
     ]
    }
   ],
   "source": [
    "labels = load_iris().target\n",
    "print(labels.shape)"
   ]
  },
  {
   "cell_type": "markdown",
   "metadata": {},
   "source": [
    "Теперь сделаем из двух таблиц одну, т.е. сольем данные и их метку в одну таблицу из пяти столбцов. Для этого будем \n",
    "использоваться библиотку numpy, импортируем ее и затем сольем таблицы. Чтобы слить таблицы в одну, необходимо, чтобы они имели одну размерность. В нашем случае, размерность для меток (150,) надо превратить в (150, 1), т.е. задать явно количество стоблцов."
   ]
  },
  {
   "cell_type": "code",
   "execution_count": 7,
   "metadata": {},
   "outputs": [
    {
     "name": "stdout",
     "output_type": "stream",
     "text": [
      "(150, 5)\n"
     ]
    }
   ],
   "source": [
    "import numpy as np\n",
    "\n",
    "labels = np.reshape(labels,(150,1))\n",
    "data = np.concatenate([data,labels],axis=-1)\n",
    "print(data.shape)"
   ]
  },
  {
   "cell_type": "markdown",
   "metadata": {},
   "source": [
    "Надо научиться работать с numpy, для этого с данными реши следующие задачи:\n",
    "1. Распечатай значения строки номер 77. Подсказка: используй numpy slices (https://docs.scipy.org/doc/numpy-1.13.0/reference/arrays.indexing.html).\n",
    "2. Распечатай значения столбца с индексом 2. Подсказка: используй numpy slices (https://docs.scipy.org/doc/numpy-1.13.0/reference/arrays.indexing.html).\n",
    "3. Распечатай значения стоблцов с индексами 1,2 и 3 в строках с 22 по 45. Подсказка: используй numpy slices (https://docs.scipy.org/doc/numpy-1.13.0/reference/arrays.indexing.html).\n",
    "4. Распечатай все строки, в которых значение sepal-width поля (индекс 1, индексирование начинается с нуля, как в списках python) больше, чем 4. Подсказка: для получения индексов строк используем np.where (https://docs.scipy.org/doc/numpy-1.13.0/reference/generated/numpy.where.html).\n",
    "5. Перемножь все значение строк с 12 по 17 на 42.\n",
    "6. Возведи в квадрат все значения строк 23, 55, 68 и 112. Подсказка: используй функции np.isin и np.square.\n",
    "7. Подсчитай скалярное произведение строк 67 и 143. Подскзака: используй np.dot.\n",
    "\n",
    "Все задания необходимо выполнить в этом ноутбуке ниже, нельзя исопльзовать питоновские циклы, задачи реализуются одним или двумя вызовами функций библиотеки numpy."
   ]
  },
  {
   "cell_type": "markdown",
   "metadata": {},
   "source": [
    "Далее учимся работать с pandas. Это более расширенная версия numpy. Можно задавать имена столбцов и строк и использовать расширеннные функции для манипуляции данными."
   ]
  },
  {
   "cell_type": "code",
   "execution_count": 17,
   "metadata": {},
   "outputs": [
    {
     "data": {
      "text/html": [
       "<div>\n",
       "<style scoped>\n",
       "    .dataframe tbody tr th:only-of-type {\n",
       "        vertical-align: middle;\n",
       "    }\n",
       "\n",
       "    .dataframe tbody tr th {\n",
       "        vertical-align: top;\n",
       "    }\n",
       "\n",
       "    .dataframe thead th {\n",
       "        text-align: right;\n",
       "    }\n",
       "</style>\n",
       "<table border=\"1\" class=\"dataframe\">\n",
       "  <thead>\n",
       "    <tr style=\"text-align: right;\">\n",
       "      <th></th>\n",
       "      <th>sepal-length</th>\n",
       "      <th>sepal-width</th>\n",
       "      <th>petal-length</th>\n",
       "      <th>petal-width</th>\n",
       "      <th>species</th>\n",
       "    </tr>\n",
       "  </thead>\n",
       "  <tbody>\n",
       "    <tr>\n",
       "      <th>0</th>\n",
       "      <td>5.1</td>\n",
       "      <td>3.5</td>\n",
       "      <td>1.4</td>\n",
       "      <td>0.2</td>\n",
       "      <td>0.0</td>\n",
       "    </tr>\n",
       "    <tr>\n",
       "      <th>1</th>\n",
       "      <td>4.9</td>\n",
       "      <td>3.0</td>\n",
       "      <td>1.4</td>\n",
       "      <td>0.2</td>\n",
       "      <td>0.0</td>\n",
       "    </tr>\n",
       "    <tr>\n",
       "      <th>2</th>\n",
       "      <td>4.7</td>\n",
       "      <td>3.2</td>\n",
       "      <td>1.3</td>\n",
       "      <td>0.2</td>\n",
       "      <td>0.0</td>\n",
       "    </tr>\n",
       "    <tr>\n",
       "      <th>3</th>\n",
       "      <td>4.6</td>\n",
       "      <td>3.1</td>\n",
       "      <td>1.5</td>\n",
       "      <td>0.2</td>\n",
       "      <td>0.0</td>\n",
       "    </tr>\n",
       "    <tr>\n",
       "      <th>4</th>\n",
       "      <td>5.0</td>\n",
       "      <td>3.6</td>\n",
       "      <td>1.4</td>\n",
       "      <td>0.2</td>\n",
       "      <td>0.0</td>\n",
       "    </tr>\n",
       "  </tbody>\n",
       "</table>\n",
       "</div>"
      ],
      "text/plain": [
       "   sepal-length  sepal-width  petal-length  petal-width  species\n",
       "0           5.1          3.5           1.4          0.2      0.0\n",
       "1           4.9          3.0           1.4          0.2      0.0\n",
       "2           4.7          3.2           1.3          0.2      0.0\n",
       "3           4.6          3.1           1.5          0.2      0.0\n",
       "4           5.0          3.6           1.4          0.2      0.0"
      ]
     },
     "execution_count": 17,
     "metadata": {},
     "output_type": "execute_result"
    }
   ],
   "source": [
    "import pandas as pd\n",
    "\n",
    "names = ['sepal-length', 'sepal-width', 'petal-length', 'petal-width', 'species']\n",
    "dataset = pd.DataFrame(data,columns=names)\n",
    "dataset.head(5)"
   ]
  },
  {
   "cell_type": "markdown",
   "metadata": {},
   "source": [
    "Основная структура библиотеки pandas это DataFrame. Фрейм содержит данные как numpy array и имена столюцов и строк, если таковые заданы. Выше мы задали имена столбцов в python списке и передали их в конструктор фрейма: columns=names. Метод head используется для печати первых N строк, вместе с именами столбцов. Получает в качестве параметра количество строк для печати, значение по умолчанию -- 10."
   ]
  },
  {
   "cell_type": "markdown",
   "metadata": {},
   "source": [
    "Для получения доступа к столбцам по символьным индексам используем метод loc (используется по умолчанию), для доступа по числовым индексам -- метод iloc. "
   ]
  },
  {
   "cell_type": "code",
   "execution_count": 28,
   "metadata": {},
   "outputs": [
    {
     "name": "stdout",
     "output_type": "stream",
     "text": [
      "1    1.4\n",
      "2    1.3\n",
      "3    1.5\n",
      "4    1.4\n",
      "Name: petal-length, dtype: float64\n"
     ]
    }
   ],
   "source": [
    "print(dataset.loc[1:4, 'petal-length'])"
   ]
  },
  {
   "cell_type": "code",
   "execution_count": 27,
   "metadata": {},
   "outputs": [
    {
     "name": "stdout",
     "output_type": "stream",
     "text": [
      "1    1.4\n",
      "2    1.3\n",
      "3    1.5\n",
      "Name: petal-length, dtype: float64\n"
     ]
    }
   ],
   "source": [
    "print(dataset.iloc[1:4, 2])"
   ]
  },
  {
   "cell_type": "markdown",
   "metadata": {},
   "source": [
    "Задача, проделать все, чтобы было сделано с numpy данными, используя в качестве индексов столбцов симольные имена."
   ]
  }
 ],
 "metadata": {
  "kernelspec": {
   "display_name": "Python 3",
   "language": "python",
   "name": "python3"
  },
  "language_info": {
   "codemirror_mode": {
    "name": "ipython",
    "version": 3
   },
   "file_extension": ".py",
   "mimetype": "text/x-python",
   "name": "python",
   "nbconvert_exporter": "python",
   "pygments_lexer": "ipython3",
   "version": "3.6.7"
  }
 },
 "nbformat": 4,
 "nbformat_minor": 2
}
